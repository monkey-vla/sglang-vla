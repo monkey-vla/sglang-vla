{
 "cells": [
  {
   "cell_type": "code",
   "execution_count": 5,
   "metadata": {},
   "outputs": [],
   "source": [
    "import numpy as np\n",
    "import sglang as sgl\n",
    "from token2action import TokenToAction, image_qa\n",
    "import pandas as pd\n",
    "import json\n",
    "import os"
   ]
  },
  {
   "cell_type": "code",
   "execution_count": 6,
   "metadata": {},
   "outputs": [],
   "source": [
    "converter = TokenToAction()\n",
    "\n",
    "def batch(batch_size, temp):\n",
    "    arguments = [\n",
    "        {\n",
    "            \"image_path\": \"images/ood.jpeg\",\n",
    "            \"question\": \"In: What action should the robot take to {Grab the block}?\\nOut:\",\n",
    "        }\n",
    "    ] * batch_size\n",
    "    states = image_qa.run_batch(\n",
    "        arguments,\n",
    "        max_new_tokens=7,\n",
    "        temperature=temp\n",
    "    )\n",
    "    return [converter.convert(s.get_meta_info(\"action\")[\"output_ids\"]).tolist() for s in states]"
   ]
  },
  {
   "cell_type": "code",
   "execution_count": 7,
   "metadata": {},
   "outputs": [],
   "source": [
    "def run_experiment(quantization=None, batch_size=[], temperature=0):\n",
    "    # quantization choices=[\"awq\",\"fp8\",\"gptq\",\"marlin\",\"gptq_marlin\",\"awq_marlin\",\"squeezellm\",\"bitsandbytes\",],\n",
    "    torchao_config = \"\"\n",
    "    if quantization == \"int4\":\n",
    "        quant = None\n",
    "        torchao_config = \"int4wo-128\"\n",
    "    elif quantization == \"fp16\":\n",
    "        quant = None\n",
    "    else:\n",
    "        quant = quantization\n",
    "    runtime = sgl.Runtime(\n",
    "        model_path=\"openvla/openvla-7b\",\n",
    "        tokenizer_path=\"openvla/openvla-7b\",\n",
    "        disable_cuda_graph=True,\n",
    "        disable_radix_cache=True,\n",
    "        chunked_prefill_size=-1,\n",
    "        quantization = quant,\n",
    "        torchao_config=torchao_config\n",
    "    )\n",
    "    sgl.set_default_backend(runtime)\n",
    "    print(f\"=== Quantization: {quantization}, Temperature: {temperature} ===\")\n",
    "    result = {\n",
    "        \"quantization\": quantization,\n",
    "        \"temperature\": temperature,\n",
    "        \"data\": {}\n",
    "    }\n",
    "    for batch_size in batch_size:\n",
    "        print(f\" running batch size {batch_size}\")\n",
    "        actions = batch(batch_size=batch_size, temp=temperature)\n",
    "        assert len(actions) == batch_size\n",
    "        result[\"data\"][batch_size] = actions\n",
    "    runtime.shutdown()\n",
    "    return result"
   ]
  },
  {
   "cell_type": "code",
   "execution_count": 8,
   "metadata": {},
   "outputs": [
    {
     "name": "stdout",
     "output_type": "stream",
     "text": [
      "INFO 11-03 05:37:15 weight_utils.py:243] Using model weights format ['*.safetensors']\n"
     ]
    },
    {
     "name": "stderr",
     "output_type": "stream",
     "text": [
      "Loading safetensors checkpoint shards:   0% Completed | 0/3 [00:00<?, ?it/s]\n",
      "Loading safetensors checkpoint shards: 100% Completed | 3/3 [00:00<00:00, 133.94it/s]\n",
      "\n"
     ]
    },
    {
     "name": "stdout",
     "output_type": "stream",
     "text": [
      "=== Quantization: fp16, Temperature: 2 ===\n",
      " running batch size 50\n",
      " running batch size 100\n",
      " running batch size 150\n",
      " running batch size 200\n",
      "INFO 11-03 05:37:53 weight_utils.py:243] Using model weights format ['*.safetensors']\n"
     ]
    },
    {
     "name": "stderr",
     "output_type": "stream",
     "text": [
      "Loading safetensors checkpoint shards:   0% Completed | 0/3 [00:00<?, ?it/s]\n",
      "Loading safetensors checkpoint shards: 100% Completed | 3/3 [00:00<00:00, 136.26it/s]\n",
      "\n"
     ]
    },
    {
     "name": "stdout",
     "output_type": "stream",
     "text": [
      "=== Quantization: fp8, Temperature: 2 ===\n",
      " running batch size 50\n",
      " running batch size 100\n",
      " running batch size 150\n",
      " running batch size 200\n",
      "INFO 11-03 05:38:25 weight_utils.py:243] Using model weights format ['*.safetensors']\n"
     ]
    },
    {
     "name": "stderr",
     "output_type": "stream",
     "text": [
      "Loading safetensors checkpoint shards:   0% Completed | 0/3 [00:00<?, ?it/s]\n",
      "Loading safetensors checkpoint shards: 100% Completed | 3/3 [00:00<00:00, 123.20it/s]\n",
      "\n"
     ]
    },
    {
     "name": "stdout",
     "output_type": "stream",
     "text": [
      "=== Quantization: int4, Temperature: 2 ===\n",
      " running batch size 50\n",
      " running batch size 100\n",
      " running batch size 150\n",
      " running batch size 200\n"
     ]
    }
   ],
   "source": [
    "for quantization in [\"fp16\", \"fp8\", \"int4\"]:\n",
    "    for temp in [2]:\n",
    "        result = run_experiment(quantization=quantization, batch_size=range(50,201,50), temperature=temp)\n",
    "        if not os.path.exists(\"logs\"):\n",
    "            os.makedirs(\"logs\")\n",
    "        with open(f\"logs/batch_ood_{quantization}_{temp}.json\", \"w\") as json_file:\n",
    "            json.dump(result, json_file, indent=4)"
   ]
  },
  {
   "cell_type": "code",
   "execution_count": null,
   "metadata": {},
   "outputs": [],
   "source": []
  }
 ],
 "metadata": {
  "kernelspec": {
   "display_name": "sglang",
   "language": "python",
   "name": "python3"
  },
  "language_info": {
   "codemirror_mode": {
    "name": "ipython",
    "version": 3
   },
   "file_extension": ".py",
   "mimetype": "text/x-python",
   "name": "python",
   "nbconvert_exporter": "python",
   "pygments_lexer": "ipython3",
   "version": "3.10.15"
  }
 },
 "nbformat": 4,
 "nbformat_minor": 2
}
